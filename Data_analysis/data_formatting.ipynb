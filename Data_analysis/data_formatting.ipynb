{
 "cells": [
  {
   "cell_type": "code",
   "execution_count": 26,
   "id": "933293fc-2183-4412-9575-535b885a4d46",
   "metadata": {},
   "outputs": [],
   "source": [
    "import json\n",
    "import csv"
   ]
  },
  {
   "cell_type": "code",
   "execution_count": 8,
   "id": "56b76d27-c4dc-4eb9-9b90-1202572d3ccf",
   "metadata": {},
   "outputs": [],
   "source": [
    "file_name = 'en_medical_dialog.json'"
   ]
  },
  {
   "cell_type": "code",
   "execution_count": 9,
   "id": "3fd38f6c-8b89-480e-943a-732d913a1af4",
   "metadata": {},
   "outputs": [],
   "source": [
    "with open(file_name, 'r') as file:\n",
    "    data = json.load(file)"
   ]
  },
  {
   "cell_type": "markdown",
   "id": "06638d5c-496f-4f0b-82a8-f8a4f795dec3",
   "metadata": {},
   "source": [
    "# json cleaning"
   ]
  },
  {
   "cell_type": "code",
   "execution_count": 14,
   "id": "bc637fa6-659e-4d49-bec9-67fd8a7a5dde",
   "metadata": {},
   "outputs": [
    {
     "name": "stdout",
     "output_type": "stream",
     "text": [
      "Modified data saved to 'modified_data.json'\n"
     ]
    }
   ],
   "source": [
    "# Load the JSON data from the file\n",
    "with open(file_name, 'r') as file:\n",
    "    data = json.load(file)\n",
    "\n",
    "# Remove the 'id' and 'Description' fields from each object in the JSON array\n",
    "for item in data:\n",
    "    del item['id']\n",
    "    del item['Description']\n",
    "\n",
    "# Save the modified JSON data to a new file\n",
    "with open('modified_data.json', 'w') as file:\n",
    "    json.dump(data, file)\n",
    "\n",
    "print(\"Modified data saved to 'modified_data.json'\")"
   ]
  },
  {
   "cell_type": "markdown",
   "id": "b1f20f54-dde4-479f-9f73-3bda823dc299",
   "metadata": {},
   "source": [
    "# CSV conversion"
   ]
  },
  {
   "cell_type": "code",
   "execution_count": 24,
   "id": "ca7adc6d-7556-4098-9455-4bb97d7407ad",
   "metadata": {},
   "outputs": [
    {
     "name": "stdout",
     "output_type": "stream",
     "text": [
      "CSV file 'data.csv' has been created.\n"
     ]
    }
   ],
   "source": [
    "# Load the JSON data from the file\n",
    "with open('modified_data.json', 'r') as file:\n",
    "    data = json.load(file)\n",
    "\n",
    "# Open a CSV file in write mode with UTF-8 encoding\n",
    "with open('data.csv', 'w', newline='', encoding='utf-8') as csvfile:\n",
    "    # Create a CSV writer object\n",
    "    writer = csv.writer(csvfile)\n",
    "    \n",
    "    # Write the header row\n",
    "    writer.writerow(['statement', 'speaker'])\n",
    "    \n",
    "    # Write each data entry as a row in the CSV file\n",
    "    for entry in data:\n",
    "        # Convert each value to a string\n",
    "        patient_statement = str(entry['Patient'])\n",
    "        doctor_statement = str(entry['Doctor'])\n",
    "        \n",
    "        # Write the statements to the CSV file\n",
    "        writer.writerow([patient_statement, 'Patient'])\n",
    "        writer.writerow([doctor_statement, 'Doctor'])\n",
    "\n",
    "print(\"CSV file 'data.csv' has been created.\")\n"
   ]
  }
 ],
 "metadata": {
  "kernelspec": {
   "display_name": "Python 3 (ipykernel)",
   "language": "python",
   "name": "python3"
  },
  "language_info": {
   "codemirror_mode": {
    "name": "ipython",
    "version": 3
   },
   "file_extension": ".py",
   "mimetype": "text/x-python",
   "name": "python",
   "nbconvert_exporter": "python",
   "pygments_lexer": "ipython3",
   "version": "3.10.14"
  }
 },
 "nbformat": 4,
 "nbformat_minor": 5
}
