{
 "cells": [
  {
   "cell_type": "code",
   "execution_count": 2,
   "id": "933293fc-2183-4412-9575-535b885a4d46",
   "metadata": {},
   "outputs": [],
   "source": [
    "import numpy as np\n",
    "import os\n",
    "import json\n",
    "import math\n",
    "import matplotlib.pyplot as plt"
   ]
  },
  {
   "cell_type": "code",
   "execution_count": 8,
   "id": "56b76d27-c4dc-4eb9-9b90-1202572d3ccf",
   "metadata": {},
   "outputs": [],
   "source": [
    "file_name = 'en_medical_dialog.json'"
   ]
  },
  {
   "cell_type": "code",
   "execution_count": 9,
   "id": "3fd38f6c-8b89-480e-943a-732d913a1af4",
   "metadata": {},
   "outputs": [],
   "source": [
    "with open(file_name, 'r') as file:\n",
    "    data = json.load(file)"
   ]
  },
  {
   "cell_type": "markdown",
   "id": "06638d5c-496f-4f0b-82a8-f8a4f795dec3",
   "metadata": {},
   "source": [
    "# json cleaning"
   ]
  },
  {
   "cell_type": "code",
   "execution_count": 14,
   "id": "bc637fa6-659e-4d49-bec9-67fd8a7a5dde",
   "metadata": {},
   "outputs": [
    {
     "name": "stdout",
     "output_type": "stream",
     "text": [
      "Modified data saved to 'modified_data.json'\n"
     ]
    }
   ],
   "source": [
    "import json\n",
    "\n",
    "# Load the JSON data from the file\n",
    "with open(file_name, 'r') as file:\n",
    "    data = json.load(file)\n",
    "\n",
    "# Remove the 'id' and 'Description' fields from each object in the JSON array\n",
    "for item in data:\n",
    "    del item['id']\n",
    "    del item['Description']\n",
    "\n",
    "# Save the modified JSON data to a new file\n",
    "with open('modified_data.json', 'w') as file:\n",
    "    json.dump(data, file)\n",
    "\n",
    "print(\"Modified data saved to 'modified_data.json'\")\n"
   ]
  },
  {
   "cell_type": "markdown",
   "id": "b1f20f54-dde4-479f-9f73-3bda823dc299",
   "metadata": {},
   "source": [
    "# CSV conversion"
   ]
  },
  {
   "cell_type": "code",
   "execution_count": 24,
   "id": "ca7adc6d-7556-4098-9455-4bb97d7407ad",
   "metadata": {},
   "outputs": [
    {
     "name": "stdout",
     "output_type": "stream",
     "text": [
      "CSV file 'data.csv' has been created.\n"
     ]
    }
   ],
   "source": [
    "import json\n",
    "import csv\n",
    "\n",
    "# Load the JSON data from the file\n",
    "with open('modified_data.json', 'r') as file:\n",
    "    data = json.load(file)\n",
    "\n",
    "# Open a CSV file in write mode with UTF-8 encoding\n",
    "with open('data.csv', 'w', newline='', encoding='utf-8') as csvfile:\n",
    "    # Create a CSV writer object\n",
    "    writer = csv.writer(csvfile)\n",
    "    \n",
    "    # Write the header row\n",
    "    writer.writerow(['statement', 'speaker'])\n",
    "    \n",
    "    # Write each data entry as a row in the CSV file\n",
    "    for entry in data:\n",
    "        # Convert each value to a string\n",
    "        patient_statement = str(entry['Patient'])\n",
    "        doctor_statement = str(entry['Doctor'])\n",
    "        \n",
    "        # Write the statements to the CSV file\n",
    "        writer.writerow([patient_statement, 'Patient'])\n",
    "        writer.writerow([doctor_statement, 'Doctor'])\n",
    "\n",
    "print(\"CSV file 'data.csv' has been created.\")\n"
   ]
  },
  {
   "cell_type": "code",
   "execution_count": 25,
   "id": "4dfe64bf-5d6a-4355-b5ba-6e5c0f5754e3",
   "metadata": {},
   "outputs": [
    {
     "name": "stdout",
     "output_type": "stream",
     "text": [
      "Collecting missingno\n",
      "  Downloading missingno-0.5.2-py3-none-any.whl.metadata (639 bytes)\n",
      "Requirement already satisfied: numpy in c:\\users\\harsh\\anaconda3\\envs\\machinelearning\\lib\\site-packages (from missingno) (1.26.4)\n",
      "Requirement already satisfied: matplotlib in c:\\users\\harsh\\anaconda3\\envs\\machinelearning\\lib\\site-packages (from missingno) (3.8.0)\n",
      "Requirement already satisfied: scipy in c:\\users\\harsh\\anaconda3\\envs\\machinelearning\\lib\\site-packages (from missingno) (1.12.0)\n",
      "Requirement already satisfied: seaborn in c:\\users\\harsh\\anaconda3\\envs\\machinelearning\\lib\\site-packages (from missingno) (0.13.2)\n",
      "Requirement already satisfied: contourpy>=1.0.1 in c:\\users\\harsh\\anaconda3\\envs\\machinelearning\\lib\\site-packages (from matplotlib->missingno) (1.2.0)\n",
      "Requirement already satisfied: cycler>=0.10 in c:\\users\\harsh\\anaconda3\\envs\\machinelearning\\lib\\site-packages (from matplotlib->missingno) (0.11.0)\n",
      "Requirement already satisfied: fonttools>=4.22.0 in c:\\users\\harsh\\anaconda3\\envs\\machinelearning\\lib\\site-packages (from matplotlib->missingno) (4.25.0)\n",
      "Requirement already satisfied: kiwisolver>=1.0.1 in c:\\users\\harsh\\anaconda3\\envs\\machinelearning\\lib\\site-packages (from matplotlib->missingno) (1.4.4)\n",
      "Requirement already satisfied: packaging>=20.0 in c:\\users\\harsh\\anaconda3\\envs\\machinelearning\\lib\\site-packages (from matplotlib->missingno) (23.2)\n",
      "Requirement already satisfied: pillow>=6.2.0 in c:\\users\\harsh\\anaconda3\\envs\\machinelearning\\lib\\site-packages (from matplotlib->missingno) (10.2.0)\n",
      "Requirement already satisfied: pyparsing>=2.3.1 in c:\\users\\harsh\\anaconda3\\envs\\machinelearning\\lib\\site-packages (from matplotlib->missingno) (3.0.9)\n",
      "Requirement already satisfied: python-dateutil>=2.7 in c:\\users\\harsh\\anaconda3\\envs\\machinelearning\\lib\\site-packages (from matplotlib->missingno) (2.8.2)\n",
      "Requirement already satisfied: pandas>=1.2 in c:\\users\\harsh\\anaconda3\\envs\\machinelearning\\lib\\site-packages (from seaborn->missingno) (2.2.1)\n",
      "Requirement already satisfied: pytz>=2020.1 in c:\\users\\harsh\\anaconda3\\envs\\machinelearning\\lib\\site-packages (from pandas>=1.2->seaborn->missingno) (2023.3.post1)\n",
      "Requirement already satisfied: tzdata>=2022.7 in c:\\users\\harsh\\anaconda3\\envs\\machinelearning\\lib\\site-packages (from pandas>=1.2->seaborn->missingno) (2023.3)\n",
      "Requirement already satisfied: six>=1.5 in c:\\users\\harsh\\anaconda3\\envs\\machinelearning\\lib\\site-packages (from python-dateutil>=2.7->matplotlib->missingno) (1.16.0)\n",
      "Downloading missingno-0.5.2-py3-none-any.whl (8.7 kB)\n",
      "Installing collected packages: missingno\n",
      "Successfully installed missingno-0.5.2\n"
     ]
    }
   ],
   "source": [
    "!pip install missingno"
   ]
  },
  {
   "cell_type": "code",
   "execution_count": null,
   "id": "0c21378e-86d1-4aa6-bfd4-4b38a3ce1836",
   "metadata": {},
   "outputs": [],
   "source": []
  }
 ],
 "metadata": {
  "kernelspec": {
   "display_name": "Python 3 (ipykernel)",
   "language": "python",
   "name": "python3"
  },
  "language_info": {
   "codemirror_mode": {
    "name": "ipython",
    "version": 3
   },
   "file_extension": ".py",
   "mimetype": "text/x-python",
   "name": "python",
   "nbconvert_exporter": "python",
   "pygments_lexer": "ipython3",
   "version": "3.10.14"
  }
 },
 "nbformat": 4,
 "nbformat_minor": 5
}
