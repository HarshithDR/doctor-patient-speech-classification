{
  "nbformat": 4,
  "nbformat_minor": 0,
  "metadata": {
    "colab": {
      "provenance": []
    },
    "kernelspec": {
      "name": "python3",
      "display_name": "Python 3"
    },
    "language_info": {
      "name": "python"
    }
  },
  "cells": [
    {
      "cell_type": "code",
      "execution_count": 6,
      "metadata": {
        "colab": {
          "base_uri": "https://localhost:8080/"
        },
        "id": "9CuVkkv_AQNB",
        "outputId": "c73c37f5-4fa0-4a90-89da-1960fc2e8fee"
      },
      "outputs": [
        {
          "output_type": "stream",
          "name": "stdout",
          "text": [
            "{'id': 9998, 'Description': 'Q. Does ductal hyperplasia indicates cancer?', 'Doctor': \"Hello. I have gone through the reports you have provided and the limited clinical history in your case. As I gather from it, let me summarise the case that I understood. Do your age and date of reports has been crop, it appears to me that you undergo an annual mammogram and before two years in a memo from the shelter of defending with high BI-RADS, and you have undergone a biopsy for the same which candidate for any malignancy. There are no additional details about your family history regarding any breast or ovarian cancers. Hence I am taking it as negative.  If my understanding of the case is correct, I will agree with your doctor's plan if there is a positive family history, then you make it I am right breast about the clarity of annual mammogram. If you have any family history of any tumors in the family, I suggest you, please update me so that we can calculate your lifetime risk.   \", 'Patient': \"Hello doctor,I am a 41-year-old female with 5' 2' in height 190 lbs weight. I have a question about my breast mammogram and biopsy report. No medications and allergies. My report says there is a usual minimal type of ductal hyperplasia. Could it be cancer?\"}\n",
            "8000\n",
            "8000\n",
            "16000\n",
            "Model: \"sequential_2\"\n",
            "_________________________________________________________________\n",
            " Layer (type)                Output Shape              Param #   \n",
            "=================================================================\n",
            " embedding_2 (Embedding)     (None, 50, 16)            407072    \n",
            "                                                                 \n",
            " lstm_2 (LSTM)               (None, 60)                18480     \n",
            "                                                                 \n",
            " dense_4 (Dense)             (None, 60)                3660      \n",
            "                                                                 \n",
            " dropout_2 (Dropout)         (None, 60)                0         \n",
            "                                                                 \n",
            " dense_5 (Dense)             (None, 1)                 61        \n",
            "                                                                 \n",
            "=================================================================\n",
            "Total params: 429273 (1.64 MB)\n",
            "Trainable params: 429273 (1.64 MB)\n",
            "Non-trainable params: 0 (0.00 Byte)\n",
            "_________________________________________________________________\n",
            "300/300 [==============================] - 18s 47ms/step - loss: 6.9691 - accuracy: 0.9062 - val_loss: 0.5637 - val_accuracy: 0.9778\n",
            "125/125 [==============================] - 3s 15ms/step\n",
            "125/125 [==============================] - 3s 17ms/step - loss: 0.4135 - accuracy: 0.9767\n",
            "Test Loss: 0.4134620726108551\n",
            "Test Accuracy: 0.9767267107963562\n"
          ]
        }
      ],
      "source": [
        "\n",
        "\n",
        "#import tensorflow as tf\n",
        "import numpy as np\n",
        "import os\n",
        "import json\n",
        "import math\n",
        "import matplotlib.pyplot as plt\n",
        "from tensorflow import keras\n",
        "from keras import regularizers\n",
        "from keras.preprocessing.text import Tokenizer\n",
        "from keras.preprocessing.sequence import pad_sequences\n",
        "from keras.models import Sequential\n",
        "from keras.layers import Embedding, LSTM, Dense, Dropout\n",
        "\n",
        "json_data={}\n",
        "with open(os.path.join('en_medical_dialog.json'), 'r') as file:\n",
        "                data = json.load(file)\n",
        "                #json_data['data'] = data\n",
        "                #print(data)\n",
        "\n",
        "data = data[:10000]\n",
        "# Sample data\n",
        "doctor_sentences_train = []\n",
        "patient_sentences_train = []\n",
        "doctor_yAxis = []\n",
        "patient_yAxis = []\n",
        "\n",
        "doctor_sentences_test = []\n",
        "patient_sentences_test = []\n",
        "doctor_yAxis_test = []\n",
        "patient_yAxis_test = []\n",
        "\n",
        "\n",
        "# Split data into training and testing sets\n",
        "\n",
        "trainingData = data[0: math.floor(len(data)*0.8)]\n",
        "testingData = data[math.floor(len(data)*0.8)+1:len(data)-1]\n",
        "print(testingData[-1])\n",
        "\n",
        "for i in trainingData:\n",
        "  doctor_sentences_train.append(i['Doctor'])\n",
        "  doctor_yAxis.append(1)\n",
        "  patient_sentences_train.append(i['Patient'])\n",
        "  patient_yAxis.append(0)\n",
        "\n",
        "for i in testingData:\n",
        "  doctor_sentences_test.append(i['Doctor'])\n",
        "  doctor_yAxis_test.append(1)\n",
        "  patient_sentences_test.append(i['Patient'])\n",
        "  patient_yAxis_test.append(0)\n",
        "\n",
        "\n",
        "testDataSet = doctor_sentences_test + patient_sentences_test\n",
        "\n",
        "print(len(doctor_sentences_train))\n",
        "print(len(patient_sentences_train))\n",
        "\n",
        "# Labels (1 for doctor, 0 for patient)\n",
        "labels = doctor_yAxis + patient_yAxis\n",
        "\n",
        "labelsTest = doctor_yAxis_test + patient_yAxis_test\n",
        "\n",
        "\n",
        "print(len(labels))\n",
        "\n",
        "\n",
        "# Combine sentences and labels\n",
        "all_sentences = doctor_sentences_train + patient_sentences_train\n",
        "all_labels = np.array(labels)\n",
        "\n",
        "# Tokenization\n",
        "tokenizer = Tokenizer(oov_token=\"<OOV>\")\n",
        "tokenizer.fit_on_texts(all_sentences)\n",
        "word_index = tokenizer.word_index\n",
        "sequences = tokenizer.texts_to_sequences(all_sentences)\n",
        "padded_sequences = pad_sequences(sequences, maxlen=50, truncating='post', padding='post')\n",
        "\n",
        "# Model\n",
        "model = Sequential()\n",
        "model.add(Embedding(len(word_index) + 1, 16, input_length=50))\n",
        "model.add(LSTM(60, dropout=0.2))\n",
        "model.add(Dense(60, activation='relu', kernel_regularizer=regularizers.l2(0.5)))\n",
        "model.add(Dropout(0.5))\n",
        "model.add(Dense(1, activation='sigmoid'))\n",
        "\n",
        "# Compile the model\n",
        "model.compile(optimizer='adam',loss='binary_crossentropy', metrics=['accuracy'])\n",
        "\n",
        "model.summary()\n",
        "\n",
        "# Train the model\n",
        "history = model.fit(padded_sequences, all_labels, epochs=1, validation_split=0.4)\n",
        "\n",
        "# Test with a new sentence\n",
        "\n",
        "new_sentence = testDataSet #[\"Well! I see the temperature is high but lets observe for 2 more days. I will prescribe papasitomal for now, \"]\n",
        "new_sequence = tokenizer.texts_to_sequences(new_sentence)\n",
        "new_padded_sequence = pad_sequences(new_sequence, maxlen=50, truncating='post', padding='post')\n",
        "prediction = model.predict(new_padded_sequence)\n",
        "\n",
        "test_sequences = tokenizer.texts_to_sequences(testDataSet)\n",
        "padded_test_sequences = pad_sequences(test_sequences, maxlen=50, truncating='post', padding='post')\n",
        "# test_labels_onehot = label_encoder.fit_transform(y_test)\n",
        "loss, accuracy = model.evaluate(padded_test_sequences, np.array(labelsTest))\n",
        "\n",
        "print(f'Test Loss: {loss}')\n",
        "print(f'Test Accuracy: {accuracy}')\n"
      ]
    },
    {
      "cell_type": "code",
      "source": [
        "history.history"
      ],
      "metadata": {
        "colab": {
          "base_uri": "https://localhost:8080/"
        },
        "id": "aKF-Z4mzFCkN",
        "outputId": "87295c06-305a-443e-8388-4615664765c4"
      },
      "execution_count": 9,
      "outputs": [
        {
          "output_type": "execute_result",
          "data": {
            "text/plain": [
              "{'loss': [6.969058513641357],\n",
              " 'accuracy': [0.90625],\n",
              " 'val_loss': [0.5636719465255737],\n",
              " 'val_accuracy': [0.9778125286102295]}"
            ]
          },
          "metadata": {},
          "execution_count": 9
        }
      ]
    },
    {
      "cell_type": "code",
      "source": [
        "import matplotlib.pyplot as plt\n",
        "\n",
        "plt.figure(figsize=(12, 5))\n",
        "\n",
        "plt.subplot(1, 2, 1)\n",
        "plt.plot(history.history['accuracy'], label='Train Accuracy')\n",
        "plt.plot(history.history['val_accuracy'], label='Validation Accuracy')\n",
        "plt.plot(history.history['val_loss'], label='Validation Loss')\n",
        "plt.title('Model Accuracy')\n",
        "plt.ylabel('Accuracy')\n",
        "plt.xlabel('Epochs')\n",
        "plt.legend()"
      ],
      "metadata": {
        "colab": {
          "base_uri": "https://localhost:8080/",
          "height": 505
        },
        "id": "yeNSB-X8EwFh",
        "outputId": "28442145-4cc2-49b1-b0c1-84b5a5aba53c"
      },
      "execution_count": 11,
      "outputs": [
        {
          "output_type": "execute_result",
          "data": {
            "text/plain": [
              "<matplotlib.legend.Legend at 0x7c5706ed6c50>"
            ]
          },
          "metadata": {},
          "execution_count": 11
        },
        {
          "output_type": "display_data",
          "data": {
            "text/plain": [
              "<Figure size 1200x500 with 1 Axes>"
            ],
            "image/png": "[encoded data removed]"
          },
          "metadata": {}
        }
      ]
    },
    {
      "cell_type": "code",
      "source": [
        "plt.subplot(1, 2, 2)\n",
        "plt.plot(history.history['loss'], label='Train Loss')\n",
        "plt.plot(history.history['val_loss'], label='Validation Loss')\n",
        "plt.title('Model Loss')\n",
        "plt.ylabel('Loss')\n",
        "plt.xlabel('Epoch')\n",
        "plt.legend()\n",
        "\n",
        "plt.tight_layout()\n",
        "plt.show()"
      ],
      "metadata": {
        "colab": {
          "base_uri": "https://localhost:8080/",
          "height": 487
        },
        "id": "1qM2lfAmFes_",
        "outputId": "3bf81ce9-7cb7-4b1c-e67d-d68dfb5daec7"
      },
      "execution_count": 12,
      "outputs": [
        {
          "output_type": "display_data",
          "data": {
            "text/plain": [
              "<Figure size 640x480 with 1 Axes>"
            ],
            "image/png": "[encoded data removed]"
          },
          "metadata": {}
        }
      ]
    }
  ]
}