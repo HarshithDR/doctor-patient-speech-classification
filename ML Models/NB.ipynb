{
 "cells": [
  {
   "cell_type": "code",
   "execution_count": null,
   "metadata": {},
   "outputs": [],
   "source": [
    "import pandas as pd\n",
    "from sklearn.model_selection import train_test_split\n",
    "from sklearn.naive_bayes import MultinomialNB\n",
    "from sklearn.metrics import accuracy_score, classification_report\n",
    "\n",
    "# Load the data from the CSV file\n",
    "df = pd.read_csv('data_cleaned.csv')\n",
    "\n",
    "# Encode 'speaker' column to numerical labels\n",
    "df['speaker'] = df['speaker'].map({'Doctor': 0, 'Patient': 1})\n",
    "\n",
    "# Take the first 10000 values for training and testing\n",
    "# df = df[:10000]\n",
    "\n",
    "# Split the data into features (X) and target labels (y)\n",
    "X = df['statement']\n",
    "y = df['speaker']\n",
    "\n",
    "# Split the data into training and testing sets\n",
    "X_train, X_test, y_train, y_test = train_test_split(X, y, test_size=0.2, random_state=42)\n",
    "\n",
    "# Vectorize the text data\n",
    "from sklearn.feature_extraction.text import CountVectorizer\n",
    "vectorizer = CountVectorizer()\n",
    "X_train_vec = vectorizer.fit_transform(X_train)\n",
    "X_test_vec = vectorizer.transform(X_test)\n",
    "\n",
    "# Train a Naive Bayes classifier\n",
    "classifier = MultinomialNB()\n",
    "classifier.fit(X_train_vec, y_train)\n",
    "\n",
    "# Predict the labels for the test set\n",
    "y_pred = classifier.predict(X_test_vec)\n",
    "\n",
    "# Evaluate the classifier\n",
    "accuracy = accuracy_score(y_test, y_pred)\n",
    "print(\"Accuracy:\", accuracy)\n",
    "\n",
    "# Print classification report\n",
    "print(\"\\nClassification Report:\")\n",
    "print(classification_report(y_test, y_pred))\n"
   ]
  },
  {
   "cell_type": "code",
   "execution_count": 1,
   "metadata": {
    "tags": []
   },
   "outputs": [
    {
     "ename": "NameError",
     "evalue": "name 'vectorizer' is not defined",
     "output_type": "error",
     "traceback": [
      "\u001b[1;31m---------------------------------------------------------------------------\u001b[0m",
      "\u001b[1;31mNameError\u001b[0m                                 Traceback (most recent call last)",
      "Cell \u001b[1;32mIn[1], line 2\u001b[0m\n\u001b[0;32m      1\u001b[0m b \u001b[38;5;241m=\u001b[39m [\u001b[38;5;124m'\u001b[39m\u001b[38;5;124mi am coming to buy a car\u001b[39m\u001b[38;5;124m'\u001b[39m]\n\u001b[1;32m----> 2\u001b[0m X_test_vec \u001b[38;5;241m=\u001b[39m vectorizer\u001b[38;5;241m.\u001b[39mtransform(b)\n\u001b[0;32m      3\u001b[0m classifier\u001b[38;5;241m.\u001b[39mpredict(X_test_vec)\n",
      "\u001b[1;31mNameError\u001b[0m: name 'vectorizer' is not defined"
     ]
    }
   ],
   "source": [
    "b = ['i am coming to buy a car']\n",
    "X_test_vec = vectorizer.transform(b)\n",
    "classifier.predict(X_test_vec)"
   ]
  },
  {
   "cell_type": "code",
   "execution_count": 3,
   "metadata": {
    "tags": []
   },
   "outputs": [
    {
     "name": "stdout",
     "output_type": "stream",
     "text": [
      "\n",
      "Classification Report:\n",
      "              precision    recall  f1-score   support\n",
      "\n",
      "           0       0.99      0.99      0.99     51179\n",
      "           1       0.99      0.99      0.99     51789\n",
      "\n",
      "    accuracy                           0.99    102968\n",
      "   macro avg       0.99      0.99      0.99    102968\n",
      "weighted avg       0.99      0.99      0.99    102968\n",
      "\n",
      "\n",
      "Model name: naive_bayes_model.pkl\n",
      "Train accuracy: 0.990671859218398\n",
      "Test accuracy: 0.9897249630953305\n",
      "Train loss: None\n",
      "Test loss: None\n",
      "Training time: 0.2022855281829834\n",
      "Model size: 7654996 bytes\n",
      "F-score: 0.9897667040662359\n"
     ]
    }
   ],
   "source": [
    "import pandas as pd\n",
    "from sklearn.model_selection import train_test_split\n",
    "from sklearn.naive_bayes import MultinomialNB\n",
    "from sklearn.metrics import accuracy_score, classification_report\n",
    "import pickle\n",
    "import os\n",
    "import time\n",
    "\n",
    "# Load the data from the CSV file\n",
    "df = pd.read_csv('data_cleaned.csv')\n",
    "\n",
    "# Encode 'speaker' column to numerical labels\n",
    "df['speaker'] = df['speaker'].map({'Doctor': 0, 'Patient': 1})\n",
    "\n",
    "# Split the data into features (X) and target labels (y)\n",
    "X = df['statement']\n",
    "y = df['speaker']\n",
    "\n",
    "# Split the data into training and testing sets\n",
    "X_train, X_test, y_train, y_test = train_test_split(X, y, test_size=0.2, random_state=42)\n",
    "\n",
    "# Vectorize the text data\n",
    "from sklearn.feature_extraction.text import CountVectorizer\n",
    "vectorizer = CountVectorizer()\n",
    "X_train_vec = vectorizer.fit_transform(X_train)\n",
    "X_test_vec = vectorizer.transform(X_test)\n",
    "\n",
    "# Train a Naive Bayes classifier\n",
    "classifier = MultinomialNB()\n",
    "classifier.fit(X_train_vec, y_train)\n",
    "\n",
    "# Predict the labels for the test set\n",
    "y_pred = classifier.predict(X_test_vec)\n",
    "\n",
    "# Evaluate the classifier\n",
    "train_accuracy = classifier.score(X_train_vec, y_train)\n",
    "test_accuracy = accuracy_score(y_test, y_pred)\n",
    "train_loss = None  # Naive Bayes does not provide a loss function directly\n",
    "test_loss = None   # Naive Bayes does not provide a loss function directly\n",
    "\n",
    "# Print classification report\n",
    "print(\"\\nClassification Report:\")\n",
    "classification_rep = classification_report(y_test, y_pred)\n",
    "print(classification_rep)\n",
    "\n",
    "# Calculate F-score\n",
    "from sklearn.metrics import f1_score\n",
    "f_score = f1_score(y_test, y_pred)\n",
    "\n",
    "# Calculate training time\n",
    "start_time = time.time()\n",
    "classifier.fit(X_train_vec, y_train)\n",
    "training_time = time.time() - start_time\n",
    "\n",
    "# Serialize the model and get its size\n",
    "model_name = \"naive_bayes_model.pkl\"\n",
    "with open(model_name, 'wb') as model_file:\n",
    "    pickle.dump(classifier, model_file)\n",
    "\n",
    "# Get the size of the model file\n",
    "model_size = os.path.getsize(model_name)\n",
    "\n",
    "# Print out all the parameters\n",
    "print(\"\\nModel name:\", model_name)\n",
    "print(\"Train accuracy:\", train_accuracy)\n",
    "print(\"Test accuracy:\", test_accuracy)\n",
    "print(\"Train loss:\", train_loss)\n",
    "print(\"Test loss:\", test_loss)\n",
    "print(\"Training time:\", training_time)\n",
    "print(\"Model size:\", model_size, \"bytes\")\n",
    "print(\"F-score:\", f_score)\n"
   ]
  }
 ],
 "metadata": {
  "kernelspec": {
   "display_name": "Python 3 (ipykernel)",
   "language": "python",
   "name": "python3"
  },
  "language_info": {
   "codemirror_mode": {
    "name": "ipython",
    "version": 3
   },
   "file_extension": ".py",
   "mimetype": "text/x-python",
   "name": "python",
   "nbconvert_exporter": "python",
   "pygments_lexer": "ipython3",
   "version": "3.11.5"
  }
 },
 "nbformat": 4,
 "nbformat_minor": 4
}
