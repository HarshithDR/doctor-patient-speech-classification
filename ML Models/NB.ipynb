{
 "cells": [
  {
   "cell_type": "code",
   "execution_count": 3,
   "metadata": {
    "tags": []
   },
   "outputs": [
    {
     "name": "stdout",
     "output_type": "stream",
     "text": [
      "\n",
      "Classification Report:\n",
      "              precision    recall  f1-score   support\n",
      "\n",
      "           0       0.99      0.99      0.99     51179\n",
      "           1       0.99      0.99      0.99     51789\n",
      "\n",
      "    accuracy                           0.99    102968\n",
      "   macro avg       0.99      0.99      0.99    102968\n",
      "weighted avg       0.99      0.99      0.99    102968\n",
      "\n",
      "\n",
      "Model name: naive_bayes_model.pkl\n",
      "Train accuracy: 0.990671859218398\n",
      "Test accuracy: 0.9897249630953305\n",
      "Train loss: None\n",
      "Test loss: None\n",
      "Training time: 0.2022855281829834\n",
      "Model size: 7654996 bytes\n",
      "F-score: 0.9897667040662359\n"
     ]
    }
   ],
   "source": [
    "import pandas as pd\n",
    "from sklearn.model_selection import train_test_split\n",
    "from sklearn.naive_bayes import MultinomialNB\n",
    "from sklearn.metrics import accuracy_score, classification_report\n",
    "import pickle\n",
    "import os\n",
    "import time\n",
    "from sklearn.metrics import f1_score\n",
    "\n",
    "# Load the data from the CSV file\n",
    "df = pd.read_csv('data_cleaned.csv')\n",
    "\n",
    "# Encode 'speaker' column to numerical labels\n",
    "df['speaker'] = df['speaker'].map({'Doctor': 0, 'Patient': 1})\n",
    "\n",
    "# Split the data into features (X) and target labels (y)\n",
    "X = df['statement']\n",
    "y = df['speaker']\n",
    "\n",
    "# Split the data into training and testing sets\n",
    "X_train, X_test, y_train, y_test = train_test_split(X, y, test_size=0.2, random_state=42)\n",
    "\n",
    "# Vectorize the text data\n",
    "from sklearn.feature_extraction.text import CountVectorizer\n",
    "vectorizer = CountVectorizer()\n",
    "X_train_vec = vectorizer.fit_transform(X_train)\n",
    "X_test_vec = vectorizer.transform(X_test)\n",
    "\n",
    "# Train a Naive Bayes classifier\n",
    "classifier = MultinomialNB()\n",
    "start_time = time.time()\n",
    "classifier.fit(X_train_vec, y_train)\n",
    "training_time = time.time() - start_time\n",
    "\n",
    "# Predict the labels for the test set\n",
    "y_pred = classifier.predict(X_test_vec)\n",
    "\n",
    "# Evaluate the classifier\n",
    "train_accuracy = classifier.score(X_train_vec, y_train)\n",
    "test_accuracy = accuracy_score(y_test, y_pred)\n",
    "\n",
    "# Print classification report\n",
    "print(\"\\nClassification Report:\")\n",
    "classification_rep = classification_report(y_test, y_pred)\n",
    "print(classification_rep)\n",
    "\n",
    "f_score = f1_score(y_test, y_pred)\n",
    "\n",
    "# Serialize the model and get its size\n",
    "model_name = \"naive_bayes_model.pkl\"\n",
    "with open(model_name, 'wb') as model_file:\n",
    "    pickle.dump(classifier, model_file)\n",
    "\n",
    "# Get the size of the model file\n",
    "model_size = os.path.getsize(model_name)\n",
    "\n",
    "# Print out all the parameters\n",
    "print(\"\\nModel name:\", model_name)\n",
    "print(\"Train accuracy:\", train_accuracy)\n",
    "print(\"Test accuracy:\", test_accuracy)\n",
    "print(\"Training time:\", training_time)\n",
    "print(\"Model size:\", model_size, \"bytes\")\n",
    "print(\"F-score:\", f_score)\n"
   ]
  }
 ],
 "metadata": {
  "kernelspec": {
   "display_name": "Python 3 (ipykernel)",
   "language": "python",
   "name": "python3"
  },
  "language_info": {
   "codemirror_mode": {
    "name": "ipython",
    "version": 3
   },
   "file_extension": ".py",
   "mimetype": "text/x-python",
   "name": "python",
   "nbconvert_exporter": "python",
   "pygments_lexer": "ipython3",
   "version": "3.11.5"
  }
 },
 "nbformat": 4,
 "nbformat_minor": 4
}
