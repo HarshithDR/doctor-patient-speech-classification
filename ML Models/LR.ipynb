{
 "cells": [
  {
   "cell_type": "code",
   "execution_count": 1,
   "metadata": {
    "tags": []
   },
   "outputs": [
    {
     "name": "stdout",
     "output_type": "stream",
     "text": [
      "\n",
      "Classification Report:\n",
      "              precision    recall  f1-score   support\n",
      "\n",
      "           0       0.99      1.00      1.00     51179\n",
      "           1       1.00      0.99      1.00     51789\n",
      "\n",
      "    accuracy                           1.00    102968\n",
      "   macro avg       1.00      1.00      1.00    102968\n",
      "weighted avg       1.00      1.00      1.00    102968\n",
      "\n",
      "\n",
      "Model name: logistic_regression_model.pkl\n",
      "Train accuracy: 0.9988588687747649\n",
      "Test accuracy: 0.995260663507109\n",
      "Training time: 33.83900237083435\n",
      "Model size: 1914319 bytes\n",
      "F-score: 0.9952851152634732\n"
     ]
    }
   ],
   "source": [
    "import pandas as pd\n",
    "from sklearn.model_selection import train_test_split\n",
    "from sklearn.linear_model import LogisticRegression\n",
    "from sklearn.metrics import accuracy_score, classification_report\n",
    "import pickle\n",
    "import os\n",
    "import time\n",
    "from sklearn.feature_extraction.text import CountVectorizer\n",
    "\n",
    "# Load the data from the CSV file\n",
    "df = pd.read_csv('data_cleaned.csv')\n",
    "\n",
    "# Encode 'speaker' column to numerical labels\n",
    "df['speaker'] = df['speaker'].map({'Doctor': 0, 'Patient': 1})\n",
    "\n",
    "# Split the data into features (X) and target labels (y)\n",
    "X = df['statement']\n",
    "y = df['speaker']\n",
    "\n",
    "# Split the data into training and testing sets\n",
    "X_train, X_test, y_train, y_test = train_test_split(X, y, test_size=0.2, random_state=42)\n",
    "\n",
    "# Vectorize the text data\n",
    "vectorizer = CountVectorizer()\n",
    "X_train_vec = vectorizer.fit_transform(X_train)\n",
    "X_test_vec = vectorizer.transform(X_test)\n",
    "\n",
    "# Train a Logistic Regression classifier\n",
    "classifier = LogisticRegression(max_iter=1000)\n",
    "start_time = time.time()\n",
    "classifier.fit(X_train_vec, y_train)\n",
    "training_time = time.time() - start_time\n",
    "\n",
    "# Predict the labels for the test set\n",
    "y_pred = classifier.predict(X_test_vec)\n",
    "\n",
    "# Evaluate the classifier\n",
    "train_accuracy = classifier.score(X_train_vec, y_train)\n",
    "test_accuracy = accuracy_score(y_test, y_pred)\n",
    "\n",
    "# Print classification report\n",
    "print(\"\\nClassification Report:\")\n",
    "classification_rep = classification_report(y_test, y_pred)\n",
    "print(classification_rep)\n",
    "\n",
    "# Calculate F-score\n",
    "from sklearn.metrics import f1_score\n",
    "f_score = f1_score(y_test, y_pred)\n",
    "\n",
    "# Serialize the model and get its size\n",
    "model_name = \"logistic_regression_model.pkl\"\n",
    "with open(model_name, 'wb') as model_file:\n",
    "    pickle.dump(classifier, model_file)\n",
    "\n",
    "with open('count_vectorizer.pkl', 'wb') as vectorizer_file:\n",
    "    pickle.dump(vectorizer, vectorizer_file)\n",
    "\n",
    "# Get the size of the model file\n",
    "model_size = os.path.getsize(model_name)\n",
    "\n",
    "# Print out all the parameters\n",
    "print(\"\\nModel name:\", model_name)\n",
    "print(\"Train accuracy:\", train_accuracy)\n",
    "print(\"Test accuracy:\", test_accuracy)\n",
    "print(\"Training time:\", training_time)\n",
    "print(\"Model size:\", model_size, \"bytes\")\n",
    "print(\"F-score:\", f_score)"
   ]
  },
  {
   "cell_type": "code",
   "execution_count": null,
   "metadata": {},
   "outputs": [],
   "source": []
  }
 ],
 "metadata": {
  "colab": {
   "provenance": []
  },
  "kernelspec": {
   "display_name": "Python 3 (ipykernel)",
   "language": "python",
   "name": "python3"
  },
  "language_info": {
   "codemirror_mode": {
    "name": "ipython",
    "version": 3
   },
   "file_extension": ".py",
   "mimetype": "text/x-python",
   "name": "python",
   "nbconvert_exporter": "python",
   "pygments_lexer": "ipython3",
   "version": "3.10.14"
  }
 },
 "nbformat": 4,
 "nbformat_minor": 4
}
