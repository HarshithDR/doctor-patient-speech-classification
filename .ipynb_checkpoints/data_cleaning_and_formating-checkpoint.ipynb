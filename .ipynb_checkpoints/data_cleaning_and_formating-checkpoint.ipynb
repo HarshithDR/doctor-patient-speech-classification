{
 "cells": [
  {
   "cell_type": "code",
   "execution_count": 2,
   "id": "933293fc-2183-4412-9575-535b885a4d46",
   "metadata": {},
   "outputs": [],
   "source": [
    "import numpy as np\n",
    "import os\n",
    "import json\n",
    "import math\n",
    "import matplotlib.pyplot as plt"
   ]
  },
  {
   "cell_type": "code",
   "execution_count": 8,
   "id": "56b76d27-c4dc-4eb9-9b90-1202572d3ccf",
   "metadata": {},
   "outputs": [],
   "source": [
    "file_name = 'en_medical_dialog.json'"
   ]
  },
  {
   "cell_type": "code",
   "execution_count": 9,
   "id": "3fd38f6c-8b89-480e-943a-732d913a1af4",
   "metadata": {},
   "outputs": [],
   "source": [
    "with open(file_name, 'r') as file:\n",
    "    data = json.load(file)"
   ]
  },
  {
   "cell_type": "code",
   "execution_count": null,
   "id": "96c0c9db-52aa-47d9-adf7-9dd19b72333e",
   "metadata": {},
   "outputs": [],
   "source": []
  }
 ],
 "metadata": {
  "kernelspec": {
   "display_name": "Python 3 (ipykernel)",
   "language": "python",
   "name": "python3"
  },
  "language_info": {
   "codemirror_mode": {
    "name": "ipython",
    "version": 3
   },
   "file_extension": ".py",
   "mimetype": "text/x-python",
   "name": "python",
   "nbconvert_exporter": "python",
   "pygments_lexer": "ipython3",
   "version": "3.10.14"
  }
 },
 "nbformat": 4,
 "nbformat_minor": 5
}
